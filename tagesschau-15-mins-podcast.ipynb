{
 "cells": [
  {
   "cell_type": "code",
   "execution_count": 17,
   "metadata": {},
   "outputs": [
    {
     "name": "stdout",
     "output_type": "stream",
     "text": [
      "Removing file: media\\2024-07-01_AfD-Bundesparteitag_Sechs-Tage-Woche_Klimaanpassungsgesetz.mp3\n",
      "Removing file: media\\2024-06-28_Polizei-Meldestellen_Kirchen_Wetter-Bilanz.mp3\n",
      "Removing file: media\\2024-06-27_Überlastung-in-der-Pflege_Irreführende-Werbung_Fentanyl.mp3\n"
     ]
    }
   ],
   "source": [
    "import requests\n",
    "import os\n",
    "import datetime\n",
    "import xml.etree.ElementTree as ET\n",
    "from urllib.request import urlretrieve\n",
    "import re\n",
    "import glob\n",
    "\n",
    "\n",
    "media_path = \"media/\"\n",
    "\n",
    "rss = \"https://www.tagesschau.de/multimedia/podcast/15-minuten/index~podcast.xml\"\n",
    "response = requests.get(rss)\n",
    "data = response.text\n",
    "\n",
    "root = ET.fromstring(data)\n",
    "\n",
    "for item in root.findall('channel/item'):\n",
    "    item_title = item.find('title').text\n",
    "    item_title = item_title.replace(\" / \", \"_\").replace(\" - \", \"_\").replace(\" \", \"-\")\n",
    "    item_title = re.sub(r'[<>:\"/\\\\|?*]', '', item_title)\n",
    "    item_enclosure_url = item.find('enclosure').get('url')\n",
    "    # print(item_enclosure_url)\n",
    "    \n",
    "    filename = os.path.basename(item_enclosure_url)\n",
    "    \n",
    "    item_pub_date = item.find('pubDate').text\n",
    "    # print(item_pub_date)\n",
    "    item_pub_date_datetime = datetime.datetime.strptime(item_pub_date, \"%a, %d %b %Y %H:%M:%S %z\")\n",
    "    item_pub_date_mysql_format = item_pub_date_datetime.strftime(\"%Y-%m-%d\")\n",
    "    \n",
    "    new_title = item_pub_date_mysql_format+\"_\"+item_title+\".mp3\"\n",
    "    \n",
    "    file_path = os.path.join(media_path, new_title)\n",
    "    if not os.path.exists(file_path):\n",
    "        print(\"Downloading:\",item_enclosure_url,\"as\",file_path)\n",
    "        urlretrieve(item_enclosure_url, file_path)\n",
    "\n",
    "    else:\n",
    "        break\n",
    "    \n",
    "# Get all files in media_path folder\n",
    "files = glob.glob(os.path.join(media_path, \"*.mp3\"))\n",
    "\n",
    "# Sort files by date in their title\n",
    "files.sort(key=lambda x: os.path.basename(x).split(\"_\")[0], reverse=True)\n",
    "\n",
    "# Check if there are more than 5 files\n",
    "if len(files) > 5:\n",
    "    # Delete the oldest files until there are only 5 left\n",
    "    for file in files[5:]:\n",
    "        print(\"Removing file:\",file)\n",
    "        os.remove(file)\n"
   ]
  }
 ],
 "metadata": {
  "kernelspec": {
   "display_name": "Python 3",
   "language": "python",
   "name": "python3"
  },
  "language_info": {
   "codemirror_mode": {
    "name": "ipython",
    "version": 3
   },
   "file_extension": ".py",
   "mimetype": "text/x-python",
   "name": "python",
   "nbconvert_exporter": "python",
   "pygments_lexer": "ipython3",
   "version": "3.11.9"
  }
 },
 "nbformat": 4,
 "nbformat_minor": 2
}
